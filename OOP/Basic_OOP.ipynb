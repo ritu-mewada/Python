{
  "nbformat": 4,
  "nbformat_minor": 0,
  "metadata": {
    "colab": {
      "name": "Task 11.ipynb",
      "provenance": []
    },
    "kernelspec": {
      "name": "python3",
      "display_name": "Python 3"
    },
    "language_info": {
      "name": "python"
    }
  },
  "cells": [
    {
      "cell_type": "markdown",
      "metadata": {
        "id": "unos1f5GMhJI"
      },
      "source": [
        "##**Write a function called oops that explicitly raises an IndexError exception when called. Then write another function that calls oops inside a try/except statement to catch the error.**\n"
      ]
    },
    {
      "cell_type": "code",
      "metadata": {
        "colab": {
          "base_uri": "https://localhost:8080/"
        },
        "id": "b4C-YISSKvOo",
        "outputId": "8b74cd59-a8b2-4ec9-b44f-8fcf1ebca184"
      },
      "source": [
        "def oops():\n",
        "    raise IndexError\n",
        "\n",
        "def func():\n",
        "    try:\n",
        "        oops()\n",
        "    except IndexError:\n",
        "        print(\"Index Error Raised!\")\n",
        "\n",
        "print(\"OUTPUT:\", end=\" \")\n",
        "func()"
      ],
      "execution_count": null,
      "outputs": [
        {
          "output_type": "stream",
          "name": "stdout",
          "text": [
            "OUTPUT: Index Error Raised!\n"
          ]
        }
      ]
    },
    {
      "cell_type": "markdown",
      "metadata": {
        "id": "iBCUxVJ6NeCw"
      },
      "source": [
        "##**Write a Python code for the following :**"
      ]
    },
    {
      "cell_type": "markdown",
      "metadata": {
        "id": "luAtbdDeGXgv"
      },
      "source": [
        "### a) Create a Vehicle class with name, max_speed and mileage instance attributes"
      ]
    },
    {
      "cell_type": "code",
      "metadata": {
        "colab": {
          "base_uri": "https://localhost:8080/"
        },
        "id": "xo5cffZ9NgQZ",
        "outputId": "8ee9e107-c161-47bd-e434-8b05c4730101"
      },
      "source": [
        "class Vehicle:\n",
        "    def __init__(self, name, max_speed, mileage):\n",
        "        self.name = name\n",
        "        self.max_speed = max_speed\n",
        "        self.mileage = mileage\n",
        "\n",
        "    def display(self):\n",
        "        print(\"Vehicle Name: \" + self.name);\n",
        "        print(\"Maximum Speed: \" + str(self.max_speed))\n",
        "        print(\"Mileage: \" + str(self.mileage))\n",
        "        \n",
        "v = Vehicle(\"Motor Cycle\", 50, 100)\n",
        "print(\"OUTPUT:\")\n",
        "v.display()"
      ],
      "execution_count": null,
      "outputs": [
        {
          "output_type": "stream",
          "name": "stdout",
          "text": [
            "OUTPUT:\n",
            "Vehicle Name: Motor Cycle\n",
            "Maximum Speed: 50\n",
            "Mileage: 100\n"
          ]
        }
      ]
    },
    {
      "cell_type": "markdown",
      "metadata": {
        "id": "8ob5R2BfGl0j"
      },
      "source": [
        "### b) Create a Vehicle class without any variables and methods."
      ]
    },
    {
      "cell_type": "code",
      "metadata": {
        "id": "w98O5Yc4QPKj"
      },
      "source": [
        "class vehicle:\n",
        "    pass"
      ],
      "execution_count": null,
      "outputs": []
    },
    {
      "cell_type": "markdown",
      "metadata": {
        "id": "tI-spxAbGs3m"
      },
      "source": [
        "### c) Create child class Bus that will inherit all of the variables and methods of the Vehicle class defined in a) and display it."
      ]
    },
    {
      "cell_type": "code",
      "metadata": {
        "colab": {
          "base_uri": "https://localhost:8080/"
        },
        "id": "dIrs1BXpQnjq",
        "outputId": "ad0c3311-91a2-4726-913d-8a3ce189d62e"
      },
      "source": [
        "class Bus(Vehicle):\n",
        "    pass\n",
        "\n",
        "bus = Bus(\"bus\", 60, 500)\n",
        "print(\"OUTPUT:\")\n",
        "bus.display()"
      ],
      "execution_count": null,
      "outputs": [
        {
          "output_type": "stream",
          "name": "stdout",
          "text": [
            "OUTPUT:\n",
            "Vehicle Name: bus\n",
            "Maximum Speed: 60\n",
            "Mileage: 500\n"
          ]
        }
      ]
    },
    {
      "cell_type": "markdown",
      "metadata": {
        "id": "NbPYWkQ5G8-Q"
      },
      "source": [
        "### d) Give the capacity argument of Bus.seating_capacity() a default value of 50."
      ]
    },
    {
      "cell_type": "code",
      "metadata": {
        "colab": {
          "base_uri": "https://localhost:8080/"
        },
        "id": "mrUC_PefTTKg",
        "outputId": "66287b51-a83e-40a9-e088-2d0af211a417"
      },
      "source": [
        "class bus(Vehicle):\n",
        "    def seating_capacity(self, capacity = 50):\n",
        "        self.capacity = capacity\n",
        "\n",
        "bus2 = bus(\"bus\", 60, 500)\n",
        "bus2.seating_capacity()\n",
        "print(\"OUTPUT:\", end=\" \")\n",
        "print(\"The seating capacity of {} = {}\".format(bus2.name, str(bus2.capacity)))"
      ],
      "execution_count": null,
      "outputs": [
        {
          "output_type": "stream",
          "name": "stdout",
          "text": [
            "OUTPUT: The seating capacity of bus = 50\n"
          ]
        }
      ]
    },
    {
      "cell_type": "markdown",
      "metadata": {
        "id": "eJCPnPBKHGk8"
      },
      "source": [
        "### e) Define property that should have the same value for every class instance Define a class attribute”color” with a default value white. i.e., Every Vehicle should be white."
      ]
    },
    {
      "cell_type": "code",
      "metadata": {
        "colab": {
          "base_uri": "https://localhost:8080/"
        },
        "id": "Zor7rjdrVxMN",
        "outputId": "0b047757-51c8-4788-a49f-9c284c0e3d69"
      },
      "source": [
        "class Vehicle1:\n",
        "    def __init__(self, name, max_speed, mileage):\n",
        "        self.name = name\n",
        "        self.max_speed = max_speed\n",
        "        self.mileage = mileage\n",
        "        self.color = \"White\"\n",
        "\n",
        "    def display(self):\n",
        "        print(\"Vehicle Name: \" + self.name);\n",
        "        print(\"Maximum Speed: \" + str(self.max_speed))\n",
        "        print(\"Mileage: \" + str(self.mileage))\n",
        "        print(\"Colour: \" + self.color)\n",
        "\n",
        "v = Vehicle1(\"Motor Cycle\", 50, 100)\n",
        "print(\"OUTPUT:\")\n",
        "v.display()"
      ],
      "execution_count": null,
      "outputs": [
        {
          "output_type": "stream",
          "name": "stdout",
          "text": [
            "OUTPUT:\n",
            "Vehicle Name: Motor Cycle\n",
            "Maximum Speed: 50\n",
            "Mileage: 100\n",
            "Colour: White\n"
          ]
        }
      ]
    }
  ]
}