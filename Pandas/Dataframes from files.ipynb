{
  "nbformat": 4,
  "nbformat_minor": 0,
  "metadata": {
    "colab": {
      "name": "task6.ipynb",
      "provenance": [],
      "collapsed_sections": [
        "g32swtdpJRYy",
        "CgC-C8xRJLwY",
        "HUPtfc2rJmS6",
        "-IPSFBZLJgDp"
      ]
    },
    "kernelspec": {
      "name": "python3",
      "display_name": "Python 3"
    },
    "language_info": {
      "name": "python"
    }
  },
  "cells": [
    {
      "cell_type": "markdown",
      "metadata": {
        "id": "g32swtdpJRYy"
      },
      "source": [
        "## **Practical-1:** Create a LabTask6_1.txt file with atleast 10 lines"
      ]
    },
    {
      "cell_type": "markdown",
      "metadata": {
        "id": "HIJJwgfz-Btv"
      },
      "source": [
        "(a) Stream the data in the file using Python."
      ]
    },
    {
      "cell_type": "code",
      "metadata": {
        "id": "lFjFCgHYY6LJ",
        "colab": {
          "base_uri": "https://localhost:8080/"
        },
        "outputId": "8e73d031-6051-4361-f76e-58b74c99c085"
      },
      "source": [
        "file = open(\"LabTask6_1.txt\")\n",
        "text = file.readlines()\n",
        "for line in text:\n",
        "    print(line)"
      ],
      "execution_count": null,
      "outputs": [
        {
          "output_type": "stream",
          "text": [
            "Python Libraries:\n",
            "\n",
            "1. numpy\n",
            "\n",
            "2. pandas\n",
            "\n",
            "3. matplotlib\n",
            "\n",
            "4. datetime\n",
            "\n",
            "5. scipy\n",
            "\n",
            "6. scikitlearn\n",
            "\n",
            "7. beautifulsoup\n",
            "\n",
            "8. requests\n",
            "\n",
            "9. urllib\n"
          ],
          "name": "stdout"
        }
      ]
    },
    {
      "cell_type": "markdown",
      "metadata": {
        "id": "JV7bBGAQ-Gmj"
      },
      "source": [
        "(b) Sample odd number lines from the the .txt file."
      ]
    },
    {
      "cell_type": "code",
      "metadata": {
        "id": "eNqzcBJx-3qa",
        "colab": {
          "base_uri": "https://localhost:8080/"
        },
        "outputId": "fd5fbe25-8447-4e6c-bf95-eddc6c84cf0f"
      },
      "source": [
        "for i in range(0,len(text)):\n",
        "    if i%2 == 0:\n",
        "        print(text[i])\n",
        "    else:\n",
        "        pass"
      ],
      "execution_count": null,
      "outputs": [
        {
          "output_type": "stream",
          "text": [
            "Python Libraries:\n",
            "\n",
            "2. pandas\n",
            "\n",
            "4. datetime\n",
            "\n",
            "6. scikitlearn\n",
            "\n",
            "8. requests\n",
            "\n"
          ],
          "name": "stdout"
        }
      ]
    },
    {
      "cell_type": "markdown",
      "metadata": {
        "id": "a1iJy2CF-K-c"
      },
      "source": [
        "(c) Randomly sample 30% lines from the .txt file using Python."
      ]
    },
    {
      "cell_type": "code",
      "metadata": {
        "id": "BfnGH0EH_cZa",
        "colab": {
          "base_uri": "https://localhost:8080/"
        },
        "outputId": "11e964d2-a5f6-4bba-b4f2-3b2349acc481"
      },
      "source": [
        "import random\n",
        "frac = int(0.3*len(text))\n",
        "txt = random.sample(text, frac)\n",
        "print(txt)"
      ],
      "execution_count": null,
      "outputs": [
        {
          "output_type": "stream",
          "text": [
            "['6. scikitlearn\\n', '4. datetime\\n', '5. scipy\\n']\n"
          ],
          "name": "stdout"
        }
      ]
    },
    {
      "cell_type": "markdown",
      "metadata": {
        "id": "McSo-31w-USC"
      },
      "source": [
        "(d) Read the .txt file using pandas for parsing"
      ]
    },
    {
      "cell_type": "code",
      "metadata": {
        "id": "fbiZNaUE_fc6",
        "colab": {
          "base_uri": "https://localhost:8080/"
        },
        "outputId": "d1ba5943-569b-4b94-88b4-70f5d2b9f368"
      },
      "source": [
        "import pandas as pd\n",
        "file1 = pd.read_csv(\"LabTask6_1.txt\", header=0)\n",
        "print(file1)"
      ],
      "execution_count": null,
      "outputs": [
        {
          "output_type": "stream",
          "text": [
            "  Python Libraries:\n",
            "0          1. numpy\n",
            "1         2. pandas\n",
            "2     3. matplotlib\n",
            "3       4. datetime\n",
            "4          5. scipy\n",
            "5    6. scikitlearn\n",
            "6  7. beautifulsoup\n",
            "7       8. requests\n",
            "8         9. urllib\n"
          ],
          "name": "stdout"
        }
      ]
    },
    {
      "cell_type": "markdown",
      "metadata": {
        "id": "CgC-C8xRJLwY"
      },
      "source": [
        "## **Practical-2**:  Create or download any .csv (Comma Separated Value) from the publically available         datasets."
      ]
    },
    {
      "cell_type": "markdown",
      "metadata": {
        "id": "xnkhbOuI-t4a"
      },
      "source": [
        "(a) Read the .csv using pandas for parsing."
      ]
    },
    {
      "cell_type": "code",
      "metadata": {
        "colab": {
          "base_uri": "https://localhost:8080/"
        },
        "id": "cq4HT03jARw0",
        "outputId": "21401b96-3470-4c80-ef4c-39e394dc55b4"
      },
      "source": [
        "csvfile = pd.read_csv(\"train.csv\", header=0)\n",
        "csvfile.info()"
      ],
      "execution_count": null,
      "outputs": [
        {
          "output_type": "stream",
          "text": [
            "<class 'pandas.core.frame.DataFrame'>\n",
            "RangeIndex: 891 entries, 0 to 890\n",
            "Data columns (total 12 columns):\n",
            " #   Column       Non-Null Count  Dtype  \n",
            "---  ------       --------------  -----  \n",
            " 0   PassengerId  891 non-null    int64  \n",
            " 1   Survived     891 non-null    int64  \n",
            " 2   Pclass       891 non-null    int64  \n",
            " 3   Name         891 non-null    object \n",
            " 4   Sex          891 non-null    object \n",
            " 5   Age          714 non-null    float64\n",
            " 6   SibSp        891 non-null    int64  \n",
            " 7   Parch        891 non-null    int64  \n",
            " 8   Ticket       891 non-null    object \n",
            " 9   Fare         891 non-null    float64\n",
            " 10  Cabin        204 non-null    object \n",
            " 11  Embarked     889 non-null    object \n",
            "dtypes: float64(2), int64(5), object(5)\n",
            "memory usage: 83.7+ KB\n"
          ],
          "name": "stdout"
        }
      ]
    },
    {
      "cell_type": "markdown",
      "metadata": {
        "id": "kRmnHzco-xIa"
      },
      "source": [
        "(b)Display any two columns from the .csv file"
      ]
    },
    {
      "cell_type": "code",
      "metadata": {
        "colab": {
          "base_uri": "https://localhost:8080/"
        },
        "id": "UJwlBilFAs34",
        "outputId": "f6cfa841-d584-4d19-cf55-965bb1132065"
      },
      "source": [
        "print(csvfile[[\"Name\", \"Age\"]])"
      ],
      "execution_count": null,
      "outputs": [
        {
          "output_type": "stream",
          "text": [
            "                                                  Name   Age\n",
            "0                              Braund, Mr. Owen Harris  22.0\n",
            "1    Cumings, Mrs. John Bradley (Florence Briggs Th...  38.0\n",
            "2                               Heikkinen, Miss. Laina  26.0\n",
            "3         Futrelle, Mrs. Jacques Heath (Lily May Peel)  35.0\n",
            "4                             Allen, Mr. William Henry  35.0\n",
            "..                                                 ...   ...\n",
            "886                              Montvila, Rev. Juozas  27.0\n",
            "887                       Graham, Miss. Margaret Edith  19.0\n",
            "888           Johnston, Miss. Catherine Helen \"Carrie\"   NaN\n",
            "889                              Behr, Mr. Karl Howell  26.0\n",
            "890                                Dooley, Mr. Patrick  32.0\n",
            "\n",
            "[891 rows x 2 columns]\n"
          ],
          "name": "stdout"
        }
      ]
    },
    {
      "cell_type": "markdown",
      "metadata": {
        "id": "bh2_4urv_HWK"
      },
      "source": [
        "(c) Display any two records (rows) from the .csv file"
      ]
    },
    {
      "cell_type": "code",
      "metadata": {
        "colab": {
          "base_uri": "https://localhost:8080/"
        },
        "id": "Lq4TmkUWA3Ct",
        "outputId": "3049b2f8-a33a-4b7c-854a-f417488fdc7c"
      },
      "source": [
        "csvfile.loc[[23,13], [\"Name\", \"Age\"]]"
      ],
      "execution_count": null,
      "outputs": [
        {
          "output_type": "execute_result",
          "data": {
            "text/html": [
              "<div>\n",
              "<style scoped>\n",
              "    .dataframe tbody tr th:only-of-type {\n",
              "        vertical-align: middle;\n",
              "    }\n",
              "\n",
              "    .dataframe tbody tr th {\n",
              "        vertical-align: top;\n",
              "    }\n",
              "\n",
              "    .dataframe thead th {\n",
              "        text-align: right;\n",
              "    }\n",
              "</style>\n",
              "<table border=\"1\" class=\"dataframe\">\n",
              "  <thead>\n",
              "    <tr style=\"text-align: right;\">\n",
              "      <th></th>\n",
              "      <th>Name</th>\n",
              "      <th>Age</th>\n",
              "    </tr>\n",
              "  </thead>\n",
              "  <tbody>\n",
              "    <tr>\n",
              "      <th>23</th>\n",
              "      <td>Sloper, Mr. William Thompson</td>\n",
              "      <td>28.0</td>\n",
              "    </tr>\n",
              "    <tr>\n",
              "      <th>13</th>\n",
              "      <td>Andersson, Mr. Anders Johan</td>\n",
              "      <td>39.0</td>\n",
              "    </tr>\n",
              "  </tbody>\n",
              "</table>\n",
              "</div>"
            ],
            "text/plain": [
              "                            Name   Age\n",
              "23  Sloper, Mr. William Thompson  28.0\n",
              "13   Andersson, Mr. Anders Johan  39.0"
            ]
          },
          "metadata": {
            "tags": []
          },
          "execution_count": 7
        }
      ]
    },
    {
      "cell_type": "markdown",
      "metadata": {
        "id": "HUPtfc2rJmS6"
      },
      "source": [
        "## **Practical-3**: Create or download any.xls file from the publically available datasets with atleast 3 worksheets. Using pandas in Python for parsing,"
      ]
    },
    {
      "cell_type": "markdown",
      "metadata": {
        "id": "34vpvPZJB1eQ"
      },
      "source": [
        "(a) read sheet2 from .xls and display it."
      ]
    },
    {
      "cell_type": "code",
      "metadata": {
        "colab": {
          "base_uri": "https://localhost:8080/",
          "height": 417
        },
        "id": "aWBd36DoGRrE",
        "outputId": "234d72dd-d4aa-4754-c265-afc0fccacf65"
      },
      "source": [
        "excel_file = pd.read_excel(\"practical 2.xlsx\", sheet_name = \"Sheet2\", header=0)\n",
        "df2 = pd.DataFrame(excel_file)\n",
        "df2"
      ],
      "execution_count": null,
      "outputs": [
        {
          "output_type": "execute_result",
          "data": {
            "text/html": [
              "<div>\n",
              "<style scoped>\n",
              "    .dataframe tbody tr th:only-of-type {\n",
              "        vertical-align: middle;\n",
              "    }\n",
              "\n",
              "    .dataframe tbody tr th {\n",
              "        vertical-align: top;\n",
              "    }\n",
              "\n",
              "    .dataframe thead th {\n",
              "        text-align: right;\n",
              "    }\n",
              "</style>\n",
              "<table border=\"1\" class=\"dataframe\">\n",
              "  <thead>\n",
              "    <tr style=\"text-align: right;\">\n",
              "      <th></th>\n",
              "      <th>student.id</th>\n",
              "      <th>name</th>\n",
              "      <th>e1.id</th>\n",
              "      <th>e1.code</th>\n",
              "      <th>e2.id</th>\n",
              "      <th>e2.code</th>\n",
              "    </tr>\n",
              "  </thead>\n",
              "  <tbody>\n",
              "    <tr>\n",
              "      <th>0</th>\n",
              "      <td>1234</td>\n",
              "      <td>joe</td>\n",
              "      <td>1234</td>\n",
              "      <td>CS1500</td>\n",
              "      <td>1234</td>\n",
              "      <td>CS1500</td>\n",
              "    </tr>\n",
              "    <tr>\n",
              "      <th>1</th>\n",
              "      <td>1234</td>\n",
              "      <td>joe</td>\n",
              "      <td>1234</td>\n",
              "      <td>CS1500</td>\n",
              "      <td>1234</td>\n",
              "      <td>CS1200</td>\n",
              "    </tr>\n",
              "    <tr>\n",
              "      <th>2</th>\n",
              "      <td>1234</td>\n",
              "      <td>joe</td>\n",
              "      <td>1234</td>\n",
              "      <td>CS1500</td>\n",
              "      <td>1234</td>\n",
              "      <td>CS2001</td>\n",
              "    </tr>\n",
              "    <tr>\n",
              "      <th>3</th>\n",
              "      <td>1234</td>\n",
              "      <td>joe</td>\n",
              "      <td>1234</td>\n",
              "      <td>CS1500</td>\n",
              "      <td>4000</td>\n",
              "      <td>CS3010</td>\n",
              "    </tr>\n",
              "    <tr>\n",
              "      <th>4</th>\n",
              "      <td>1234</td>\n",
              "      <td>joe</td>\n",
              "      <td>1234</td>\n",
              "      <td>CS1500</td>\n",
              "      <td>4000</td>\n",
              "      <td>MA3000</td>\n",
              "    </tr>\n",
              "    <tr>\n",
              "      <th>...</th>\n",
              "      <td>...</td>\n",
              "      <td>...</td>\n",
              "      <td>...</td>\n",
              "      <td>...</td>\n",
              "      <td>...</td>\n",
              "      <td>...</td>\n",
              "    </tr>\n",
              "    <tr>\n",
              "      <th>70</th>\n",
              "      <td>2000</td>\n",
              "      <td>ling</td>\n",
              "      <td>4000</td>\n",
              "      <td>MA3000</td>\n",
              "      <td>1234</td>\n",
              "      <td>CS1500</td>\n",
              "    </tr>\n",
              "    <tr>\n",
              "      <th>71</th>\n",
              "      <td>2000</td>\n",
              "      <td>ling</td>\n",
              "      <td>4000</td>\n",
              "      <td>MA3000</td>\n",
              "      <td>1234</td>\n",
              "      <td>CS1200</td>\n",
              "    </tr>\n",
              "    <tr>\n",
              "      <th>72</th>\n",
              "      <td>2000</td>\n",
              "      <td>ling</td>\n",
              "      <td>4000</td>\n",
              "      <td>MA3000</td>\n",
              "      <td>1234</td>\n",
              "      <td>CS2001</td>\n",
              "    </tr>\n",
              "    <tr>\n",
              "      <th>73</th>\n",
              "      <td>2000</td>\n",
              "      <td>ling</td>\n",
              "      <td>4000</td>\n",
              "      <td>MA3000</td>\n",
              "      <td>4000</td>\n",
              "      <td>CS3010</td>\n",
              "    </tr>\n",
              "    <tr>\n",
              "      <th>74</th>\n",
              "      <td>2000</td>\n",
              "      <td>ling</td>\n",
              "      <td>4000</td>\n",
              "      <td>MA3000</td>\n",
              "      <td>4000</td>\n",
              "      <td>MA3000</td>\n",
              "    </tr>\n",
              "  </tbody>\n",
              "</table>\n",
              "<p>75 rows × 6 columns</p>\n",
              "</div>"
            ],
            "text/plain": [
              "    student.id  name  e1.id e1.code  e2.id e2.code\n",
              "0         1234   joe   1234  CS1500   1234  CS1500\n",
              "1         1234   joe   1234  CS1500   1234  CS1200\n",
              "2         1234   joe   1234  CS1500   1234  CS2001\n",
              "3         1234   joe   1234  CS1500   4000  CS3010\n",
              "4         1234   joe   1234  CS1500   4000  MA3000\n",
              "..         ...   ...    ...     ...    ...     ...\n",
              "70        2000  ling   4000  MA3000   1234  CS1500\n",
              "71        2000  ling   4000  MA3000   1234  CS1200\n",
              "72        2000  ling   4000  MA3000   1234  CS2001\n",
              "73        2000  ling   4000  MA3000   4000  CS3010\n",
              "74        2000  ling   4000  MA3000   4000  MA3000\n",
              "\n",
              "[75 rows x 6 columns]"
            ]
          },
          "metadata": {
            "tags": []
          },
          "execution_count": 8
        }
      ]
    },
    {
      "cell_type": "markdown",
      "metadata": {
        "id": "vaYu8HqdCJuq"
      },
      "source": [
        "(b)read specific columns from a given excel file"
      ]
    },
    {
      "cell_type": "code",
      "metadata": {
        "colab": {
          "base_uri": "https://localhost:8080/",
          "height": 417
        },
        "id": "1T3H4ZL9Ic37",
        "outputId": "0c1543a0-6a56-4923-9fbb-c539385689c2"
      },
      "source": [
        "df2[[\"e2.code\"]]"
      ],
      "execution_count": null,
      "outputs": [
        {
          "output_type": "execute_result",
          "data": {
            "text/html": [
              "<div>\n",
              "<style scoped>\n",
              "    .dataframe tbody tr th:only-of-type {\n",
              "        vertical-align: middle;\n",
              "    }\n",
              "\n",
              "    .dataframe tbody tr th {\n",
              "        vertical-align: top;\n",
              "    }\n",
              "\n",
              "    .dataframe thead th {\n",
              "        text-align: right;\n",
              "    }\n",
              "</style>\n",
              "<table border=\"1\" class=\"dataframe\">\n",
              "  <thead>\n",
              "    <tr style=\"text-align: right;\">\n",
              "      <th></th>\n",
              "      <th>e2.code</th>\n",
              "    </tr>\n",
              "  </thead>\n",
              "  <tbody>\n",
              "    <tr>\n",
              "      <th>0</th>\n",
              "      <td>CS1500</td>\n",
              "    </tr>\n",
              "    <tr>\n",
              "      <th>1</th>\n",
              "      <td>CS1200</td>\n",
              "    </tr>\n",
              "    <tr>\n",
              "      <th>2</th>\n",
              "      <td>CS2001</td>\n",
              "    </tr>\n",
              "    <tr>\n",
              "      <th>3</th>\n",
              "      <td>CS3010</td>\n",
              "    </tr>\n",
              "    <tr>\n",
              "      <th>4</th>\n",
              "      <td>MA3000</td>\n",
              "    </tr>\n",
              "    <tr>\n",
              "      <th>...</th>\n",
              "      <td>...</td>\n",
              "    </tr>\n",
              "    <tr>\n",
              "      <th>70</th>\n",
              "      <td>CS1500</td>\n",
              "    </tr>\n",
              "    <tr>\n",
              "      <th>71</th>\n",
              "      <td>CS1200</td>\n",
              "    </tr>\n",
              "    <tr>\n",
              "      <th>72</th>\n",
              "      <td>CS2001</td>\n",
              "    </tr>\n",
              "    <tr>\n",
              "      <th>73</th>\n",
              "      <td>CS3010</td>\n",
              "    </tr>\n",
              "    <tr>\n",
              "      <th>74</th>\n",
              "      <td>MA3000</td>\n",
              "    </tr>\n",
              "  </tbody>\n",
              "</table>\n",
              "<p>75 rows × 1 columns</p>\n",
              "</div>"
            ],
            "text/plain": [
              "   e2.code\n",
              "0   CS1500\n",
              "1   CS1200\n",
              "2   CS2001\n",
              "3   CS3010\n",
              "4   MA3000\n",
              "..     ...\n",
              "70  CS1500\n",
              "71  CS1200\n",
              "72  CS2001\n",
              "73  CS3010\n",
              "74  MA3000\n",
              "\n",
              "[75 rows x 1 columns]"
            ]
          },
          "metadata": {
            "tags": []
          },
          "execution_count": 9
        }
      ]
    },
    {
      "cell_type": "markdown",
      "metadata": {
        "id": "Iz05f_n1CMnl"
      },
      "source": [
        "(c) add a column named \"column1\" in the third position of the .xls file (in sheet2) and fill it with NaN values."
      ]
    },
    {
      "cell_type": "code",
      "metadata": {
        "colab": {
          "base_uri": "https://localhost:8080/",
          "height": 417
        },
        "id": "vlifn_FuGswc",
        "outputId": "7776cf4b-aad3-4e45-e292-f572ba0b4628"
      },
      "source": [
        "import numpy as np\n",
        "col1 = pd.DataFrame([np.nan]*75)\n",
        "col1"
      ],
      "execution_count": null,
      "outputs": [
        {
          "output_type": "execute_result",
          "data": {
            "text/html": [
              "<div>\n",
              "<style scoped>\n",
              "    .dataframe tbody tr th:only-of-type {\n",
              "        vertical-align: middle;\n",
              "    }\n",
              "\n",
              "    .dataframe tbody tr th {\n",
              "        vertical-align: top;\n",
              "    }\n",
              "\n",
              "    .dataframe thead th {\n",
              "        text-align: right;\n",
              "    }\n",
              "</style>\n",
              "<table border=\"1\" class=\"dataframe\">\n",
              "  <thead>\n",
              "    <tr style=\"text-align: right;\">\n",
              "      <th></th>\n",
              "      <th>0</th>\n",
              "    </tr>\n",
              "  </thead>\n",
              "  <tbody>\n",
              "    <tr>\n",
              "      <th>0</th>\n",
              "      <td>NaN</td>\n",
              "    </tr>\n",
              "    <tr>\n",
              "      <th>1</th>\n",
              "      <td>NaN</td>\n",
              "    </tr>\n",
              "    <tr>\n",
              "      <th>2</th>\n",
              "      <td>NaN</td>\n",
              "    </tr>\n",
              "    <tr>\n",
              "      <th>3</th>\n",
              "      <td>NaN</td>\n",
              "    </tr>\n",
              "    <tr>\n",
              "      <th>4</th>\n",
              "      <td>NaN</td>\n",
              "    </tr>\n",
              "    <tr>\n",
              "      <th>...</th>\n",
              "      <td>...</td>\n",
              "    </tr>\n",
              "    <tr>\n",
              "      <th>70</th>\n",
              "      <td>NaN</td>\n",
              "    </tr>\n",
              "    <tr>\n",
              "      <th>71</th>\n",
              "      <td>NaN</td>\n",
              "    </tr>\n",
              "    <tr>\n",
              "      <th>72</th>\n",
              "      <td>NaN</td>\n",
              "    </tr>\n",
              "    <tr>\n",
              "      <th>73</th>\n",
              "      <td>NaN</td>\n",
              "    </tr>\n",
              "    <tr>\n",
              "      <th>74</th>\n",
              "      <td>NaN</td>\n",
              "    </tr>\n",
              "  </tbody>\n",
              "</table>\n",
              "<p>75 rows × 1 columns</p>\n",
              "</div>"
            ],
            "text/plain": [
              "     0\n",
              "0  NaN\n",
              "1  NaN\n",
              "2  NaN\n",
              "3  NaN\n",
              "4  NaN\n",
              "..  ..\n",
              "70 NaN\n",
              "71 NaN\n",
              "72 NaN\n",
              "73 NaN\n",
              "74 NaN\n",
              "\n",
              "[75 rows x 1 columns]"
            ]
          },
          "metadata": {
            "tags": []
          },
          "execution_count": 10
        }
      ]
    },
    {
      "cell_type": "code",
      "metadata": {
        "colab": {
          "base_uri": "https://localhost:8080/",
          "height": 417
        },
        "id": "UHMJqkh7IpNz",
        "outputId": "b8059c81-9a7b-4f83-ea9c-00db2bae8ae7"
      },
      "source": [
        "df2.insert(loc=2, column=\"column1\", value=col1)\n",
        "df2"
      ],
      "execution_count": null,
      "outputs": [
        {
          "output_type": "execute_result",
          "data": {
            "text/html": [
              "<div>\n",
              "<style scoped>\n",
              "    .dataframe tbody tr th:only-of-type {\n",
              "        vertical-align: middle;\n",
              "    }\n",
              "\n",
              "    .dataframe tbody tr th {\n",
              "        vertical-align: top;\n",
              "    }\n",
              "\n",
              "    .dataframe thead th {\n",
              "        text-align: right;\n",
              "    }\n",
              "</style>\n",
              "<table border=\"1\" class=\"dataframe\">\n",
              "  <thead>\n",
              "    <tr style=\"text-align: right;\">\n",
              "      <th></th>\n",
              "      <th>student.id</th>\n",
              "      <th>name</th>\n",
              "      <th>column1</th>\n",
              "      <th>e1.id</th>\n",
              "      <th>e1.code</th>\n",
              "      <th>e2.id</th>\n",
              "      <th>e2.code</th>\n",
              "    </tr>\n",
              "  </thead>\n",
              "  <tbody>\n",
              "    <tr>\n",
              "      <th>0</th>\n",
              "      <td>1234</td>\n",
              "      <td>joe</td>\n",
              "      <td>NaN</td>\n",
              "      <td>1234</td>\n",
              "      <td>CS1500</td>\n",
              "      <td>1234</td>\n",
              "      <td>CS1500</td>\n",
              "    </tr>\n",
              "    <tr>\n",
              "      <th>1</th>\n",
              "      <td>1234</td>\n",
              "      <td>joe</td>\n",
              "      <td>NaN</td>\n",
              "      <td>1234</td>\n",
              "      <td>CS1500</td>\n",
              "      <td>1234</td>\n",
              "      <td>CS1200</td>\n",
              "    </tr>\n",
              "    <tr>\n",
              "      <th>2</th>\n",
              "      <td>1234</td>\n",
              "      <td>joe</td>\n",
              "      <td>NaN</td>\n",
              "      <td>1234</td>\n",
              "      <td>CS1500</td>\n",
              "      <td>1234</td>\n",
              "      <td>CS2001</td>\n",
              "    </tr>\n",
              "    <tr>\n",
              "      <th>3</th>\n",
              "      <td>1234</td>\n",
              "      <td>joe</td>\n",
              "      <td>NaN</td>\n",
              "      <td>1234</td>\n",
              "      <td>CS1500</td>\n",
              "      <td>4000</td>\n",
              "      <td>CS3010</td>\n",
              "    </tr>\n",
              "    <tr>\n",
              "      <th>4</th>\n",
              "      <td>1234</td>\n",
              "      <td>joe</td>\n",
              "      <td>NaN</td>\n",
              "      <td>1234</td>\n",
              "      <td>CS1500</td>\n",
              "      <td>4000</td>\n",
              "      <td>MA3000</td>\n",
              "    </tr>\n",
              "    <tr>\n",
              "      <th>...</th>\n",
              "      <td>...</td>\n",
              "      <td>...</td>\n",
              "      <td>...</td>\n",
              "      <td>...</td>\n",
              "      <td>...</td>\n",
              "      <td>...</td>\n",
              "      <td>...</td>\n",
              "    </tr>\n",
              "    <tr>\n",
              "      <th>70</th>\n",
              "      <td>2000</td>\n",
              "      <td>ling</td>\n",
              "      <td>NaN</td>\n",
              "      <td>4000</td>\n",
              "      <td>MA3000</td>\n",
              "      <td>1234</td>\n",
              "      <td>CS1500</td>\n",
              "    </tr>\n",
              "    <tr>\n",
              "      <th>71</th>\n",
              "      <td>2000</td>\n",
              "      <td>ling</td>\n",
              "      <td>NaN</td>\n",
              "      <td>4000</td>\n",
              "      <td>MA3000</td>\n",
              "      <td>1234</td>\n",
              "      <td>CS1200</td>\n",
              "    </tr>\n",
              "    <tr>\n",
              "      <th>72</th>\n",
              "      <td>2000</td>\n",
              "      <td>ling</td>\n",
              "      <td>NaN</td>\n",
              "      <td>4000</td>\n",
              "      <td>MA3000</td>\n",
              "      <td>1234</td>\n",
              "      <td>CS2001</td>\n",
              "    </tr>\n",
              "    <tr>\n",
              "      <th>73</th>\n",
              "      <td>2000</td>\n",
              "      <td>ling</td>\n",
              "      <td>NaN</td>\n",
              "      <td>4000</td>\n",
              "      <td>MA3000</td>\n",
              "      <td>4000</td>\n",
              "      <td>CS3010</td>\n",
              "    </tr>\n",
              "    <tr>\n",
              "      <th>74</th>\n",
              "      <td>2000</td>\n",
              "      <td>ling</td>\n",
              "      <td>NaN</td>\n",
              "      <td>4000</td>\n",
              "      <td>MA3000</td>\n",
              "      <td>4000</td>\n",
              "      <td>MA3000</td>\n",
              "    </tr>\n",
              "  </tbody>\n",
              "</table>\n",
              "<p>75 rows × 7 columns</p>\n",
              "</div>"
            ],
            "text/plain": [
              "    student.id  name  column1  e1.id e1.code  e2.id e2.code\n",
              "0         1234   joe      NaN   1234  CS1500   1234  CS1500\n",
              "1         1234   joe      NaN   1234  CS1500   1234  CS1200\n",
              "2         1234   joe      NaN   1234  CS1500   1234  CS2001\n",
              "3         1234   joe      NaN   1234  CS1500   4000  CS3010\n",
              "4         1234   joe      NaN   1234  CS1500   4000  MA3000\n",
              "..         ...   ...      ...    ...     ...    ...     ...\n",
              "70        2000  ling      NaN   4000  MA3000   1234  CS1500\n",
              "71        2000  ling      NaN   4000  MA3000   1234  CS1200\n",
              "72        2000  ling      NaN   4000  MA3000   1234  CS2001\n",
              "73        2000  ling      NaN   4000  MA3000   4000  CS3010\n",
              "74        2000  ling      NaN   4000  MA3000   4000  MA3000\n",
              "\n",
              "[75 rows x 7 columns]"
            ]
          },
          "metadata": {
            "tags": []
          },
          "execution_count": 11
        }
      ]
    }
  ]
}