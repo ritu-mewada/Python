{
  "nbformat": 4,
  "nbformat_minor": 0,
  "metadata": {
    "colab": {
      "name": "Task 8.ipynb",
      "provenance": [],
      "collapsed_sections": []
    },
    "kernelspec": {
      "name": "python3",
      "display_name": "Python 3"
    },
    "language_info": {
      "name": "python"
    }
  },
  "cells": [
    {
      "cell_type": "markdown",
      "metadata": {
        "id": "pwyg2bcBK0tm"
      },
      "source": [
        "## **Write a Pandas program to print the day after and before a specified date. Also print the days between two given dates.**\n"
      ]
    },
    {
      "cell_type": "code",
      "metadata": {
        "id": "F9AKaXsYK7Nu"
      },
      "source": [
        "import datetime as dt\n",
        "import pandas as pd"
      ],
      "execution_count": null,
      "outputs": []
    },
    {
      "cell_type": "code",
      "metadata": {
        "colab": {
          "base_uri": "https://localhost:8080/"
        },
        "id": "zN0KRwXJLHa-",
        "outputId": "2c038d3c-3ca5-48ca-c6d6-7096feaa59d7"
      },
      "source": [
        "d = dt.datetime.now()\n",
        "print(str(d))"
      ],
      "execution_count": null,
      "outputs": [
        {
          "output_type": "stream",
          "name": "stdout",
          "text": [
            "2021-09-17 06:11:50.461794\n"
          ]
        }
      ]
    },
    {
      "cell_type": "code",
      "metadata": {
        "colab": {
          "base_uri": "https://localhost:8080/"
        },
        "id": "KOqOic0PYcG9",
        "outputId": "afa297e5-42bd-4a9b-e1ac-00639b14fb0b"
      },
      "source": [
        " l = [dt.datetime.strftime(d+pd.Timedelta(days=i), '%d/%m/%Y') for i in range(0,5)]\n",
        " print(l)"
      ],
      "execution_count": null,
      "outputs": [
        {
          "output_type": "stream",
          "name": "stdout",
          "text": [
            "['17/09/2021', '18/09/2021', '19/09/2021', '20/09/2021', '21/09/2021']\n"
          ]
        }
      ]
    },
    {
      "cell_type": "code",
      "metadata": {
        "id": "5gu9PONjahAW"
      },
      "source": [
        "import numpy as np"
      ],
      "execution_count": null,
      "outputs": []
    },
    {
      "cell_type": "code",
      "metadata": {
        "colab": {
          "base_uri": "https://localhost:8080/"
        },
        "id": "M2tM1_L4akl7",
        "outputId": "6617d599-8913-44f2-c26f-60f8fa111734"
      },
      "source": [
        "a = np.random.randint(0,100, size=5, dtype=int)\n",
        "a"
      ],
      "execution_count": null,
      "outputs": [
        {
          "output_type": "execute_result",
          "data": {
            "text/plain": [
              "array([ 7,  6, 45,  1, 68])"
            ]
          },
          "metadata": {},
          "execution_count": 7
        }
      ]
    },
    {
      "cell_type": "code",
      "metadata": {
        "colab": {
          "base_uri": "https://localhost:8080/"
        },
        "id": "3EOPo2ruau84",
        "outputId": "6f7c65f4-9bc5-4b27-bdb2-4fc250d822a2"
      },
      "source": [
        "print(np.sum(a))"
      ],
      "execution_count": null,
      "outputs": [
        {
          "output_type": "stream",
          "name": "stdout",
          "text": [
            "127\n"
          ]
        }
      ]
    },
    {
      "cell_type": "code",
      "metadata": {
        "colab": {
          "base_uri": "https://localhost:8080/"
        },
        "id": "iP-8jfmBay1O",
        "outputId": "1cc1ddb2-d1d7-4512-b92b-af222b418770"
      },
      "source": [
        "a.sort()\n",
        "a = a[::-1]\n",
        "a"
      ],
      "execution_count": null,
      "outputs": [
        {
          "output_type": "execute_result",
          "data": {
            "text/plain": [
              "array([68, 45,  7,  6,  1])"
            ]
          },
          "metadata": {},
          "execution_count": 11
        }
      ]
    },
    {
      "cell_type": "code",
      "metadata": {
        "colab": {
          "base_uri": "https://localhost:8080/"
        },
        "id": "ZfAzxfM1LucA",
        "outputId": "fe831e29-4050-4ccb-a4c0-56dd1d43dc04"
      },
      "source": [
        "print(\"Tommorow:\", dt.datetime.strftime(d+pd.Timedelta(days=1), '%d/%m/%Y-%A'))\n",
        "print(\"Yesterday:\", dt.datetime.strftime(d-pd.Timedelta(days=1), '%d/%m/%Y-%A'))"
      ],
      "execution_count": null,
      "outputs": [
        {
          "output_type": "stream",
          "name": "stdout",
          "text": [
            "Tommorow: 10/09/2021-Friday\n",
            "Yesterday: 08/09/2021-Wednesday\n"
          ]
        }
      ]
    },
    {
      "cell_type": "code",
      "metadata": {
        "colab": {
          "base_uri": "https://localhost:8080/"
        },
        "id": "3aEocuv0U3Ah",
        "outputId": "c5001f6a-5442-439c-e6bb-a99887d2fa59"
      },
      "source": [
        "print(\"Difference between two dates:\",\n",
        "      (dt.datetime(2020, 9, 23)- dt.datetime(2020, 2, 2)))"
      ],
      "execution_count": null,
      "outputs": [
        {
          "output_type": "stream",
          "name": "stdout",
          "text": [
            "Difference between two dates: 234 days, 0:00:00\n"
          ]
        }
      ]
    },
    {
      "cell_type": "markdown",
      "metadata": {
        "id": "PkJyu3f3Mwgs"
      },
      "source": [
        "##**Write a Pandas program to extract year, month, day, hour, minute, second and weekday from unidentified flying object (UFO) reporting date(http://bit.ly/uforeports).**"
      ]
    },
    {
      "cell_type": "code",
      "metadata": {
        "id": "TWu45aT2M-UJ"
      },
      "source": [
        "import pandas as pd"
      ],
      "execution_count": null,
      "outputs": []
    },
    {
      "cell_type": "code",
      "metadata": {
        "colab": {
          "base_uri": "https://localhost:8080/"
        },
        "id": "9AiNWSmSNB80",
        "outputId": "25700a07-a03a-4ef0-de8e-a6fbfa634e3d"
      },
      "source": [
        "df = pd.read_csv('http://bit.ly/uforeports')\n",
        "df.info()"
      ],
      "execution_count": null,
      "outputs": [
        {
          "output_type": "stream",
          "name": "stdout",
          "text": [
            "<class 'pandas.core.frame.DataFrame'>\n",
            "RangeIndex: 18241 entries, 0 to 18240\n",
            "Data columns (total 5 columns):\n",
            " #   Column           Non-Null Count  Dtype \n",
            "---  ------           --------------  ----- \n",
            " 0   City             18216 non-null  object\n",
            " 1   Colors Reported  2882 non-null   object\n",
            " 2   Shape Reported   15597 non-null  object\n",
            " 3   State            18241 non-null  object\n",
            " 4   Time             18241 non-null  object\n",
            "dtypes: object(5)\n",
            "memory usage: 712.7+ KB\n"
          ]
        }
      ]
    },
    {
      "cell_type": "code",
      "metadata": {
        "colab": {
          "base_uri": "https://localhost:8080/"
        },
        "id": "LmGGhb7oNWU5",
        "outputId": "9dd6ce6f-1cfd-459a-edb5-8d8cea092635"
      },
      "source": [
        "df['Time'].head()"
      ],
      "execution_count": null,
      "outputs": [
        {
          "output_type": "execute_result",
          "data": {
            "text/plain": [
              "0     6/1/1930 22:00\n",
              "1    6/30/1930 20:00\n",
              "2    2/15/1931 14:00\n",
              "3     6/1/1931 13:00\n",
              "4    4/18/1933 19:00\n",
              "Name: Time, dtype: object"
            ]
          },
          "metadata": {},
          "execution_count": 7
        }
      ]
    },
    {
      "cell_type": "code",
      "metadata": {
        "id": "jNPtxlbGNlie"
      },
      "source": [
        "time = df['Time'].astype('datetime64[ns]')"
      ],
      "execution_count": null,
      "outputs": []
    },
    {
      "cell_type": "code",
      "metadata": {
        "colab": {
          "base_uri": "https://localhost:8080/"
        },
        "id": "Zm2pK7_2P5D0",
        "outputId": "aed386e8-9e83-46d9-b841-1d8084700d7c"
      },
      "source": [
        "print('Year, Month, Date, Hour, Minuite, Second, Weekday')\n",
        "for d in time.head(20):\n",
        "  print(dt.datetime.strftime(d, '%Y, %m, %d, %H, %M, %S, %a'))"
      ],
      "execution_count": null,
      "outputs": [
        {
          "output_type": "stream",
          "name": "stdout",
          "text": [
            "Year, Month, Date, Hour, Minuite, Second, Weekday\n",
            "1930, 06, 01, 22, 00, 00, Sun\n",
            "1930, 06, 30, 20, 00, 00, Mon\n",
            "1931, 02, 15, 14, 00, 00, Sun\n",
            "1931, 06, 01, 13, 00, 00, Mon\n",
            "1933, 04, 18, 19, 00, 00, Tue\n",
            "1934, 09, 15, 15, 30, 00, Sat\n",
            "1935, 06, 15, 00, 00, 00, Sat\n",
            "1936, 07, 15, 00, 00, 00, Wed\n",
            "1936, 10, 15, 17, 00, 00, Thu\n",
            "1937, 06, 15, 00, 00, 00, Tue\n",
            "1937, 08, 15, 21, 00, 00, Sun\n",
            "1939, 06, 01, 20, 00, 00, Thu\n",
            "1939, 06, 30, 20, 00, 00, Fri\n",
            "1939, 07, 07, 02, 00, 00, Fri\n",
            "1941, 06, 01, 13, 00, 00, Sun\n",
            "1941, 07, 02, 11, 30, 00, Wed\n",
            "1942, 02, 25, 00, 00, 00, Wed\n",
            "1942, 06, 01, 22, 30, 00, Mon\n",
            "1942, 07, 15, 01, 00, 00, Wed\n",
            "1943, 04, 30, 23, 00, 00, Fri\n"
          ]
        }
      ]
    }
  ]
}